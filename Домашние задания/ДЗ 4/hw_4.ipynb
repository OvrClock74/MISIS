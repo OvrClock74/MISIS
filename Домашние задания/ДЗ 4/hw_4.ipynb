{
 "cells": [
  {
   "cell_type": "markdown",
   "id": "e785535d",
   "metadata": {},
   "source": [
    "# Домашнее задание №4\n",
    "## Задание 1\n",
    "Средний бал и список отстающих учеников.\n",
    "\n",
    "*Содержимое файла \"ocenka.txt\":   \n",
    "Иванов О. 4   \n",
    "Петров И. 3   \n",
    "Дмитриев Н. 2   \n",
    "Смирнова О. 4   \n",
    "Керченских В. 5   \n",
    "Котов Д. 2   \n",
    "Бирюкова Н. 1   \n",
    "Данилов П. 3   \n",
    "Аранских В. 5   \n",
    "Лемонов Ю. 2   \n",
    "Олегова К. 4*   "
   ]
  },
  {
   "cell_type": "code",
   "execution_count": 87,
   "id": "9b6e38e1",
   "metadata": {},
   "outputs": [
    {
     "name": "stdout",
     "output_type": "stream",
     "text": [
      "Средний балл: 3\n",
      "Отстающие ученики: Дмитриев Н. Котов Д. Бирюкова Н. Лемонов Ю. \n"
     ]
    }
   ],
   "source": [
    "def stud(name_file):\n",
    "    f = open(name_file, 'r', encoding=\"utf-8\")\n",
    "    text = f.read().split('\\n')\n",
    "    name = []\n",
    "    rating = []\n",
    "    s = 'Отстающие ученики: '\n",
    "    for w in text:\n",
    "        name.append(w[:w.find('.')])\n",
    "        rating.append(int(w[w.find('.')+2:]))\n",
    "    for i, el in enumerate(rating):\n",
    "        if el < int(sum(rating) / len(rating)):\n",
    "            s += f'{name[i]}. '\n",
    "    f.close()\n",
    "    return f'Средний балл: {int(sum(rating) / len(rating))}\\n{s}'\n",
    "\n",
    "            \n",
    "print(stud('/Users/pavelzurkin/Desktop/ocenka.txt'))"
   ]
  },
  {
   "cell_type": "markdown",
   "id": "d99f282f",
   "metadata": {},
   "source": [
    "## Задание 2\n",
    "Посчитать количество определенных слов в файле.\n",
    "\n",
    "*Содержимое файла \"raspisanie.txt\":*\n",
    "\n",
    "*Понедельник:   \n",
    "  Физика (лекц.)   \n",
    "  Физика (лаб.)   \n",
    "  Алгебра (практ.)*   \n",
    " \n",
    "*Вторник:   \n",
    "\tГеометрия (лекц.)   \n",
    "\tФизика (практ.)   \n",
    "\tФизика (лаб.)   \n",
    "\tФизкультура (практ.)*   \n",
    "\n",
    "*Среда:   \n",
    "\tФизика (лекц.)   \n",
    "\tФизика (лаб.)   \n",
    "\tАлгебра (практ.)*   \n",
    " \n",
    "*Четверг:   \n",
    "\tГеометрия (лекц.)   \n",
    "\tФизика (практ.)   \n",
    "\tФизика (лаб.)   \n",
    "\tФизкультура (практ.)*   \n",
    "\n",
    "*Пятница:   \n",
    "\tФизика (лекц.)   \n",
    "\tФизика (лаб.)   \n",
    "\tАлгебра (практ.)*   \n",
    " \n",
    "*Суббота:   \n",
    "\tГеометрия (лекц.)   \n",
    "\tФизика (практ.)   \n",
    "\tФизика (лаб.)   \n",
    "\tФизкультура (практ.)*   "
   ]
  },
  {
   "cell_type": "code",
   "execution_count": 76,
   "id": "f41de877",
   "metadata": {},
   "outputs": [
    {
     "name": "stdout",
     "output_type": "stream",
     "text": [
      "Лекций: 3\n",
      "Практических: 6\n",
      "Лабораторных: 2\n"
     ]
    }
   ],
   "source": [
    "def raspis(name_file):\n",
    "    predm = {'лаб.':0, 'практ.':0, 'лекц.':0}\n",
    "    with open(name_file, 'r', encoding=\"utf-8\") as f:\n",
    "        for line in f:\n",
    "            text = f.readline().strip()\n",
    "            if '(' in text:\n",
    "                predm[text[text.index('(')+1:text.index(')')]] += 1\n",
    "    return f'Лекций: {predm[\"лекц.\"]}\\nПрактических: {predm[\"практ.\"]}\\nЛабораторных: {predm[\"лаб.\"]}'\n",
    "\n",
    "            \n",
    "print(raspis('/Users/pavelzurkin/Desktop/raspisanie.txt'))"
   ]
  },
  {
   "cell_type": "markdown",
   "id": "64f16604",
   "metadata": {},
   "source": [
    "## Задание 3\n",
    "Выведите список файлов в указанной директории. например где у вас лежат ваши тетради."
   ]
  },
  {
   "cell_type": "code",
   "execution_count": 85,
   "id": "29044dd7",
   "metadata": {},
   "outputs": [
    {
     "name": "stdout",
     "output_type": "stream",
     "text": [
      "raspisanie.txt\n",
      "ocenka.txt\n"
     ]
    }
   ],
   "source": [
    "import os\n",
    "\n",
    "for filename in os.listdir('/Users/pavelzurkin/Desktop/hw_4'):\n",
    "    print(filename)"
   ]
  },
  {
   "cell_type": "markdown",
   "id": "ffc350af",
   "metadata": {},
   "source": [
    "## Задание 4\n",
    "Напишите программу, которая принимает текст и выводит два слова: наиболее часто встречающееся и самое длинное.\n",
    "\n",
    "*Примечание 1:* *функция не считает **однобуквенные союзы** за самые часто встречаемые слова - \"len(word) != 1\"*\n",
    "\n",
    "*Примечание 2:* *в файле тот же текст, что дан в описании задания*\n",
    "\n",
    "*Примечание 3:* *за основу взять код из ДЗ_3 из Задания_9*"
   ]
  },
  {
   "cell_type": "code",
   "execution_count": 115,
   "id": "942d8ee0",
   "metadata": {},
   "outputs": [
    {
     "name": "stdout",
     "output_type": "stream",
     "text": [
      "Наиболее часто встречающееся: он (кол-во 4)\n",
      "Самое длинное: храброславленный (длина 16)\n"
     ]
    }
   ],
   "source": [
    "from re import sub\n",
    "\n",
    "\n",
    "def word_analysis(name_file):\n",
    "    f = open(name_file, 'r', encoding=\"utf-8\")\n",
    "    text = f.read()\n",
    "    symbs = '[<|>|{|}|(|)|*|+|=|-|-|—|_|;|:|,|.|!|?|/|#|№|%|$|@|&|]'\n",
    "    text = sub(symbs, ' ', text) # очистка от символов\n",
    "    lst_phrase = list(map(str.lower, text.split())) # конверт в список + нижний регистр\n",
    "    occur_most_common = 0 # количество вхождений слова\n",
    "    most_lenght = 0\n",
    "    for word in list(set(lst_phrase)):\n",
    "        occur = lst_phrase.count(word) # сколько раз встречается слово\n",
    "        if occur > occur_most_common and len(word) != 1: # \"!=1\" чтобы не считались союзы\n",
    "            occur_most_common = occur\n",
    "            word_most_common = word\n",
    "        if len(word) > most_lenght:\n",
    "            most_lenght = len(word)\n",
    "            word_most_lenght = word           \n",
    "    f.close()\n",
    "    return f'Наиболее часто встречающееся: {word_most_common} (кол-во {occur_most_common})\\nСамое длинное: {word_most_lenght} (длина {most_lenght})'\n",
    "\n",
    "\n",
    "print(word_analysis('/Users/pavelzurkin/Desktop/some_text.txt'))\n"
   ]
  }
 ],
 "metadata": {
  "kernelspec": {
   "display_name": "Python 3 (ipykernel)",
   "language": "python",
   "name": "python3"
  },
  "language_info": {
   "codemirror_mode": {
    "name": "ipython",
    "version": 3
   },
   "file_extension": ".py",
   "mimetype": "text/x-python",
   "name": "python",
   "nbconvert_exporter": "python",
   "pygments_lexer": "ipython3",
   "version": "3.9.7"
  }
 },
 "nbformat": 4,
 "nbformat_minor": 5
}
