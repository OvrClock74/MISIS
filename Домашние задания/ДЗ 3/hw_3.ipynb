{
 "cells": [
  {
   "cell_type": "markdown",
   "id": "21126de6",
   "metadata": {},
   "source": [
    "# Домашнее задание №2\n",
    "## Задание 1\n",
    "Напишите функцию, извлекающую корень n-й степени из числа x. По умолчанию def будет извлекать квадратный корень."
   ]
  },
  {
   "cell_type": "code",
   "execution_count": 87,
   "id": "775aefd0",
   "metadata": {},
   "outputs": [
    {
     "name": "stdout",
     "output_type": "stream",
     "text": [
      "Введите число и степень корня: 4\n",
      "2.0\n"
     ]
    }
   ],
   "source": [
    "def sqr(num, n=2):\n",
    "    return float(num) ** (1/int(n))\n",
    "    \n",
    "    \n",
    "print(sqr(*(input('Введите число и степень корня: ').split(' '))))"
   ]
  },
  {
   "cell_type": "markdown",
   "id": "df997e52",
   "metadata": {},
   "source": [
    "## Задание 2\n",
    "Перепишите ваш код для проверки расширения из прошлого ДЗ в функцию которая принимает список расширений и имя файла \n",
    "\n",
    "*(Уже сделал таким способом в прошлом дз - поэтому индентичный код)*"
   ]
  },
  {
   "cell_type": "code",
   "execution_count": 27,
   "id": "2d669c29",
   "metadata": {},
   "outputs": [
    {
     "name": "stdout",
     "output_type": "stream",
     "text": [
      "True\n"
     ]
    }
   ],
   "source": [
    "def file_ext(file, lst_ext):\n",
    "    return True if file[file.find('.'):] in lst_ext else False\n",
    "        \n",
    "    \n",
    "lst_ext = ['.png', '.jpg', '.py', '.pdf']\n",
    "file = 'Hello.jpg'\n",
    "print(file_ext(file, lst_ext))"
   ]
  },
  {
   "cell_type": "markdown",
   "id": "b417af52",
   "metadata": {},
   "source": [
    "## Задание 3\n",
    "Слейте воедино три словаря"
   ]
  },
  {
   "cell_type": "code",
   "execution_count": 35,
   "id": "3c2a0299",
   "metadata": {},
   "outputs": [
    {
     "name": "stdout",
     "output_type": "stream",
     "text": [
      "{1: 10, 2: 20, 3: 30, 4: 40, 5: 50, 6: 60}\n"
     ]
    }
   ],
   "source": [
    "def updt(a, b, c):\n",
    "    a.update(b)\n",
    "    a.update(c)\n",
    "    return a\n",
    "\n",
    "\n",
    "dict_a = {1:10, 2:20}\n",
    "dict_b = {3:30, 4:40}\n",
    "dict_c = {5:50, 6:60}\n",
    "print(updt(dict_a, dict_b, dict_c))"
   ]
  },
  {
   "cell_type": "markdown",
   "id": "7dee1cf1",
   "metadata": {},
   "source": [
    "## Задание 4\n",
    "Напишите функцию которая будет складывать цифры внутри числа"
   ]
  },
  {
   "cell_type": "code",
   "execution_count": 45,
   "id": "cceefdd4",
   "metadata": {},
   "outputs": [
    {
     "name": "stdout",
     "output_type": "stream",
     "text": [
      "Введите число: 45\n",
      "Сумма чисел: 9\n"
     ]
    }
   ],
   "source": [
    "def sum_digt(num):\n",
    "    return sum(int(digt) for digt in num)\n",
    "        \n",
    "    \n",
    "print(f'Сумма чисел: {sum_digt(input(\"Введите число: \"))}')"
   ]
  },
  {
   "cell_type": "markdown",
   "id": "a8b313fb",
   "metadata": {},
   "source": [
    "## Задание 5\n",
    "Нужно проверить, все ли числа в последовательности уникальны."
   ]
  },
  {
   "cell_type": "code",
   "execution_count": 63,
   "id": "2518842f",
   "metadata": {},
   "outputs": [
    {
     "name": "stdout",
     "output_type": "stream",
     "text": [
      "Введите список чисел: 1 2 3\n",
      "Числа в списке уникальны - True\n"
     ]
    }
   ],
   "source": [
    "def unic_num(lst):\n",
    "    lst = list(map(float, lst))\n",
    "    return list(set(lst)) == lst\n",
    "    \n",
    "    \n",
    "print(f'Числа в списке уникальны - {unic_num(input(\"Введите список чисел: \").split(\" \"))}')"
   ]
  },
  {
   "cell_type": "markdown",
   "id": "d6992779",
   "metadata": {},
   "source": [
    "## Задание 6\n",
    "Создать функцию, которая просто печатает все элементы заданного ей списка"
   ]
  },
  {
   "cell_type": "code",
   "execution_count": 75,
   "id": "5678312a",
   "metadata": {},
   "outputs": [
    {
     "name": "stdout",
     "output_type": "stream",
     "text": [
      "Номер 1 --> я\n",
      "Номер 2 --> ушел\n",
      "Номер 3 --> в\n",
      "Номер 4 --> отпуск\n",
      "Номер 5 --> ушел\n",
      "Номер 6 --> в\n",
      "Номер 7 --> отпуск\n",
      "Номер 8 --> ушел\n",
      "Номер 9 --> в\n",
      "Номер 10 --> отпуск\n",
      "Номер 11 --> ушел\n",
      "Номер 12 --> в\n",
      "Номер 13 --> отпуск\n",
      "\n"
     ]
    }
   ],
   "source": [
    "def prnt_list(my_list):\n",
    "    s = ''\n",
    "    for i, el in enumerate(my_list):\n",
    "        s += f'Номер {i + 1} --> {el}\\n'\n",
    "    return s\n",
    "\n",
    "print(prnt_list([\"я\", \"ушел\", \"в\", \"отпуск\", \"ушел\", \"в\", \"отпуск\", \"ушел\", \"в\", \"отпуск\", \"ушел\", \"в\", \"отпуск\"]))"
   ]
  },
  {
   "cell_type": "markdown",
   "id": "b47f2da2",
   "metadata": {},
   "source": [
    "## Задание 7\n",
    "Создать функцию, которая печатает каждый элемент словарика"
   ]
  },
  {
   "cell_type": "code",
   "execution_count": 78,
   "id": "b694b25a",
   "metadata": {},
   "outputs": [
    {
     "name": "stdout",
     "output_type": "stream",
     "text": [
      "Ключ <<key1>> --> 2\n",
      "Ключ <<key3>> --> False\n",
      "Ключ <<Приветствие>> --> Hello\n",
      "\n"
     ]
    }
   ],
   "source": [
    "def print_dict(my_dict):\n",
    "    s = ''\n",
    "    for key in my_dict:\n",
    "        s += f'Ключ <<{key}>> --> {my_dict[key]}\\n'\n",
    "    return s\n",
    "\n",
    "\n",
    "print(print_dict({\"key1\": 2, \"key3\": False, \"Приветствие\": \"Hello\"}))"
   ]
  },
  {
   "cell_type": "markdown",
   "id": "5d2a985d",
   "metadata": {},
   "source": [
    "## Задание 8\n",
    "Сделать функцию, которая использует две уже написанные функции следующим образом"
   ]
  },
  {
   "cell_type": "code",
   "execution_count": 82,
   "id": "22abc67b",
   "metadata": {},
   "outputs": [
    {
     "name": "stdout",
     "output_type": "stream",
     "text": [
      "Это просто так, шутка: 1\n",
      "Это List: [1, 2, 3, 4]\n",
      "Это просто так, шутка: Hello\n",
      "Это Dict: {'ciao': 'Mondo', 'Привет': 'О дивный мир'}\n",
      "ВСЁ!!!\n"
     ]
    }
   ],
   "source": [
    "def print_list(el):\n",
    "    return f'Это List: {el}'\n",
    "\n",
    "def print_dict(el):\n",
    "    return f'Это Dict: {el}'\n",
    "\n",
    "def print_overlord(mydict):\n",
    "    for key in mydict:\n",
    "        if type(mydict[key]) == list:\n",
    "            print(print_list(mydict[key]))\n",
    "        elif type(mydict[key]) == dict:\n",
    "            print(print_dict(mydict[key]))\n",
    "        else: \n",
    "            print(f'Это просто так, шутка: {mydict[key]}')\n",
    "    return 'ВСЁ!!!'\n",
    "\n",
    "\n",
    "print(print_overlord(dict(key1 = 1, key2 = [1, 2, 3, 4], key3 = 'Hello', key4 = {\"ciao\":\"Mondo\", \"Привет\": \"О дивный мир\"})))\n"
   ]
  },
  {
   "cell_type": "markdown",
   "id": "b39cb8ad",
   "metadata": {},
   "source": [
    "## Задание 9\n",
    "Сделать функцию, которая на вход получает фразу и печатает все отдельные слова из этой фразы и чтобы она считала \"вес\" каждого слова, выводя в процентное соотношение во фразе для каждого слова. Проценты печатать с точностью до 2 знаков после запятой."
   ]
  },
  {
   "cell_type": "code",
   "execution_count": 90,
   "id": "806bd931",
   "metadata": {},
   "outputs": [
    {
     "name": "stdout",
     "output_type": "stream",
     "text": [
      "Введите фразу:\n",
      "Тут фраза с пробелами и я хочу их распечатать по одному на строку и ещё посчитать слова. А если вдруг слова будут повторяться? Вот например: фраза с пробелами и пробелами.\n",
      "\n",
      "Кол-во вхождений | Вес | Слово\n",
      "\n",
      "3 | 10.0% | пробелами\n",
      "1 | 3.33% | одному\n",
      "1 | 3.33% | их\n",
      "1 | 3.33% | вдруг\n",
      "1 | 3.33% | будут\n",
      "1 | 3.33% | я\n",
      "2 | 6.67% | слова\n",
      "1 | 3.33% | посчитать\n",
      "1 | 3.33% | хочу\n",
      "1 | 3.33% | а\n",
      "1 | 3.33% | повторяться\n",
      "2 | 6.67% | с\n",
      "1 | 3.33% | распечатать\n",
      "1 | 3.33% | вот\n",
      "1 | 3.33% | например\n",
      "2 | 6.67% | фраза\n",
      "1 | 3.33% | тут\n",
      "1 | 3.33% | ещё\n",
      "1 | 3.33% | строку\n",
      "1 | 3.33% | по\n",
      "1 | 3.33% | если\n",
      "1 | 3.33% | на\n",
      "3 | 10.0% | и\n",
      "\n"
     ]
    }
   ],
   "source": [
    "from re import sub\n",
    "\n",
    "\n",
    "def word_count(phrase):\n",
    "    symbs = '[<|>|{|}|(|)|*|+|=|-|_|;|:|,|.|!|?|/|#|№|%|$|@|&|]'\n",
    "    phrase = sub(symbs, '', phrase) # очистка от символов\n",
    "    lst_phrase = list(map(str.lower, phrase.split())) # конверт в список + нижний регистр\n",
    "    s = '\\nКол-во вхождений | Вес | Слово\\n\\n'\n",
    "    for word in list(set(lst_phrase)):\n",
    "        occur = lst_phrase.count(word) # кол-во слов\n",
    "        wgth = occur/len(lst_phrase)*100 # вес слова\n",
    "        s += f'{occur} | {round(wgth, 2)}% | {word}\\n'\n",
    "    return s\n",
    "\n",
    "\n",
    "phrase = ''\n",
    "if phrase == '':\n",
    "    print(word_count(input('Введите фразу:\\n')))\n",
    "else:\n",
    "    print(word_count(phrase))"
   ]
  }
 ],
 "metadata": {
  "kernelspec": {
   "display_name": "Python 3 (ipykernel)",
   "language": "python",
   "name": "python3"
  },
  "language_info": {
   "codemirror_mode": {
    "name": "ipython",
    "version": 3
   },
   "file_extension": ".py",
   "mimetype": "text/x-python",
   "name": "python",
   "nbconvert_exporter": "python",
   "pygments_lexer": "ipython3",
   "version": "3.9.7"
  }
 },
 "nbformat": 4,
 "nbformat_minor": 5
}
