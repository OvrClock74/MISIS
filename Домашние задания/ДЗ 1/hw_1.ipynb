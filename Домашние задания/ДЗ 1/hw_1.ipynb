{
 "cells": [
  {
   "cell_type": "markdown",
   "id": "7d3c0702",
   "metadata": {},
   "source": [
    "# Домашнее задание №1\n",
    "\n",
    "\n",
    "\n",
    "## Задание 1\n",
    "Написать программу, чтоб число секунд отображалось в виде дней, часов, минут и секунд.\n",
    "\n",
    "**Реализация 1** (*с помощью бибилиотеки \"datetime\", но в данном случае, так как максимальное число дней в объекте timedelta < 1 000 000 000, максимальное число секунд - 86 399 999 999 999*)**:**"
   ]
  },
  {
   "cell_type": "code",
   "execution_count": 81,
   "id": "3a1fd22f",
   "metadata": {},
   "outputs": [
    {
     "name": "stdout",
     "output_type": "stream",
     "text": [
      "Кол-во секунд: 666\n",
      "\n",
      "0:11:06 [h]:[m]:[s]\n"
     ]
    }
   ],
   "source": [
    "from datetime import timedelta\n",
    "\n",
    "sec = int(input(\"Кол-во секунд: \"))\n",
    "print(f'\\n{timedelta(seconds=sec)} [h]:[m]:[s]')"
   ]
  },
  {
   "cell_type": "markdown",
   "id": "e8c0a93a",
   "metadata": {},
   "source": [
    "**Реализация 2:**"
   ]
  },
  {
   "cell_type": "code",
   "execution_count": 82,
   "id": "96c34af4",
   "metadata": {},
   "outputs": [
    {
     "name": "stdout",
     "output_type": "stream",
     "text": [
      "Кол-во секунд: 888\n",
      "\n",
      "Дни: 0, Часы: 0, Минуты: 14, Секунды: 48\n"
     ]
    }
   ],
   "source": [
    "sec = int(input(\"Кол-во секунд: \"))\n",
    "mnt = 0\n",
    "hour = 0\n",
    "day = 0\n",
    "if sec/60 >= 1:\n",
    "    mnt = sec//60\n",
    "    sec -= mnt*60\n",
    "if mnt/60 >= 1:\n",
    "    hour = mnt//60\n",
    "    mnt -= hour*60\n",
    "if hour/24 >= 1:\n",
    "    day = hour//24\n",
    "    hour -= day*24\n",
    "print(f'\\nДни: {day}, Часы: {hour}, Минуты: {mnt}, Секунды: {sec}')"
   ]
  },
  {
   "cell_type": "markdown",
   "id": "a3e06af8",
   "metadata": {},
   "source": [
    "## Задание 2\n",
    "Написать калькулятор, который запрашивает на входе две переменные и знак, и в соответствии со знаком ( + - \\* / ) выводит результат.\n",
    "\n",
    "*Функция \"Calculator\" принимает на входе сразу полное выражение, что немного не соответствует заданию, но, думаю, так будет удобней и понятней пользователю.*"
   ]
  },
  {
   "cell_type": "code",
   "execution_count": 2,
   "id": "0cb59d11",
   "metadata": {},
   "outputs": [
    {
     "name": "stdout",
     "output_type": "stream",
     "text": [
      "\"Калькулятор\"\n",
      "\tВведите выражение: 2+2\n",
      "\tОтвет: 4\n"
     ]
    }
   ],
   "source": [
    "def calculator(exp):\n",
    "    '''\n",
    "    Калькулятор, который принимает арифметическое выражение в str и выводит\n",
    "    результат вычислений, соответственно арифметическому знаку.\n",
    "    '''\n",
    "    exp = exp.replace(',', '.') # убираем возможную ошибку пользователя\n",
    "    sign = [i for i in '+-*/' if i in exp] # поиск арифметического знака\n",
    "    if len(sign) == 0: # проверка на адекватность 1\n",
    "        return 'Нет арифметического знака!'\n",
    "    else:\n",
    "        sign_num = exp.find(sign[0]) # нахождение индекса арифм. знака\n",
    "    try: # проверка на адекватность 2\n",
    "        if exp[:sign_num] == '' or exp[sign_num+1:] == '':\n",
    "            return 'Неполное выражение!'\n",
    "        p_1 = float(exp[:sign_num])\n",
    "        p_2 = float(exp[sign_num+1:])\n",
    "    except:\n",
    "        return 'Присутствуют посторонние знаки!'\n",
    "    try: # проверка на адекватность 3\n",
    "        if sign[0] == '+':\n",
    "            answer = p_1 + p_2\n",
    "        elif sign[0] == '-':\n",
    "            answer = p_1 - p_2\n",
    "        elif sign[0] == '*':\n",
    "            answer = p_1 * p_2\n",
    "        elif sign[0] == '/':\n",
    "            answer = p_1 / p_2\n",
    "    except:\n",
    "        return 'Зачем делишь на ноль?!'\n",
    "    if answer % 1 == 0: # форматирование  \n",
    "        return int(answer)\n",
    "    else: \n",
    "        return answer\n",
    "    \n",
    "    \n",
    "exp = input('\"Калькулятор\"\\n\\tВведите выражение: ') # арифметическое выражение\n",
    "print(f'\\tОтвет: {calculator(exp)}')"
   ]
  }
 ],
 "metadata": {
  "kernelspec": {
   "display_name": "Python 3 (ipykernel)",
   "language": "python",
   "name": "python3"
  },
  "language_info": {
   "codemirror_mode": {
    "name": "ipython",
    "version": 3
   },
   "file_extension": ".py",
   "mimetype": "text/x-python",
   "name": "python",
   "nbconvert_exporter": "python",
   "pygments_lexer": "ipython3",
   "version": "3.8.10"
  }
 },
 "nbformat": 4,
 "nbformat_minor": 5
}
