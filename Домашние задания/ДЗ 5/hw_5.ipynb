{
 "cells": [
  {
   "cell_type": "markdown",
   "id": "5a8b6f13",
   "metadata": {},
   "source": [
    "# Домашнее задание №5\n",
    "## Задание 1\n",
    "Напишите программу с классом Student, в котором есть три атрибута: name, groupNumber и age. По умолчанию name = Ivan, age = 18, groupNumber = 10A. Необходимо создать пять методов: getName, getAge, getGroupNumber, setNameAge, setGroupNumber. Метод getName нужен для получения данных об имени конкретного студента, метод getAge нужен для получения данных о возрасте конкретного студента, vетод setGroupNumberнужен для получения данных о номере группы конкретного студента. Метод SetNameAge позволяет изменить данные атрибутов установленных по умолчанию, метод setGroupNumber позволяет изменить номер группы установленный по умолчанию. В программе необходимо создать пять экземпляров класса Student, установить им разные имена, возраст и номер группы."
   ]
  },
  {
   "cell_type": "code",
   "execution_count": 19,
   "id": "4062f986",
   "metadata": {},
   "outputs": [
    {
     "name": "stdout",
     "output_type": "stream",
     "text": [
      "1:  Ivan 18 10A \n",
      "\n",
      "2:  Pavel 19 11B \n",
      "\n",
      "3:  Ivan 17 9B \n",
      "\n",
      "Имя изменено\n",
      "4:  Ilya 15 7A \n",
      "\n",
      "Имя и возраст изменены\n",
      "Номер группы изменен\n",
      "5:  Alex 16 6A \n",
      "\n"
     ]
    }
   ],
   "source": [
    "class Student:\n",
    "    def __init__(self, name = 'Ivan', groupNumber = '10A', age = 18):\n",
    "        self.name = name\n",
    "        self.groupNumber = groupNumber\n",
    "        self.age = age\n",
    "        \n",
    "    def setNameAge(self, new_name = None, new_age = None):\n",
    "        if new_name is None:\n",
    "            self.age = new_age\n",
    "            return 'Возраст изменен'\n",
    "        elif new_age is None:\n",
    "            self.name = new_name\n",
    "            return 'Имя изменено'\n",
    "        else:\n",
    "            self.name = new_name\n",
    "            self.age = new_age\n",
    "            return 'Имя и возраст изменены'\n",
    "    \n",
    "    def setGroupNumber(self, new_groupNumber): \n",
    "        self.groupNumber = new_groupNumber\n",
    "        return 'Номер группы изменен'\n",
    "    \n",
    "    def getName(self):\n",
    "        return self.name\n",
    "    \n",
    "    def getAge(self): \n",
    "        return self.age\n",
    "    \n",
    "    def getGroupNumber(self):\n",
    "        return self.groupNumber\n",
    "    \n",
    "\n",
    "st_1 = Student() # дефолтный студент\n",
    "print('1: ', st_1.name, st_1.age, st_1.groupNumber, '\\n') # для примера, как можно возвращать переменные экземпляра класса\n",
    "\n",
    "st_2 = Student('Pavel', '11B', 19) # другой студент с изначально измененными параметрами\n",
    "print('2: ', st_2.getName(), st_2.getAge(), st_2.getGroupNumber(), '\\n')\n",
    "\n",
    "st_3 = Student(groupNumber = '9B', age = 17) # студент с дефолтным именем\n",
    "print('3: ', st_3.getName(), st_3.getAge(), st_3.getGroupNumber(), '\\n')\n",
    "\n",
    "st_4 = Student(groupNumber = '7A', age = 15) # студент с измененным именем через метод класса\n",
    "print(st_4.setNameAge(new_name = 'Ilya'))\n",
    "print('4: ', st_4.getName(), st_4.getAge(), st_4.getGroupNumber(), '\\n')\n",
    "\n",
    "st_5 = Student('German', '5Б', 13) # студент, которому перепутали и будут изменять ВСЁ\n",
    "print(f'{st_5.setNameAge(\"Alex\", 16)}\\n{st_5.setGroupNumber(\"6A\")}')\n",
    "print('5: ', st_5.getName(), st_5.getAge(), st_5.getGroupNumber(), '\\n')"
   ]
  },
  {
   "cell_type": "markdown",
   "id": "cf7ff9db",
   "metadata": {},
   "source": [
    "## Задание 2 \n",
    "Напишите программу с классом Car. Создайте конструктор класса Car. Создайте атрибуты класса Car — color (цвет), type (тип), year (год). Напишите пять методов. Первый — запуск автомобиля, при его вызове выводится сообщение «Автомобиль заведен». Второй — отключение автомобиля — выводит сообщение «Автомобиль заглушен». Третий — присвоение автомобилю года выпуска. Четвертый метод — присвоение автомобилю типа. Пятый — присвоение автомобилю цвета."
   ]
  },
  {
   "cell_type": "code",
   "execution_count": 35,
   "id": "79aff7fc",
   "metadata": {},
   "outputs": [
    {
     "name": "stdout",
     "output_type": "stream",
     "text": [
      "Автомобиль None None None года заведен!\n",
      "Год присвоен, тип присвоен, цвет присвоен.\n",
      "Автомобиль голубой седан 2008 года заглушен!\n",
      "\n",
      "\n",
      "Автомобиль черный хэтчбек 2012 года заведен!\n",
      "Тип изменен.\n",
      "Автомобиль черный универсал 2012 года заглушен!\n"
     ]
    }
   ],
   "source": [
    "class Car:\n",
    "    def __init__(self, color = None, type_car = None, year = None):\n",
    "        self.color = color\n",
    "        self.type_car = type_car\n",
    "        self.year = year\n",
    "        \n",
    "    def engineOn(self):\n",
    "        return f'Автомобиль {self.color} {self.type_car} {self.year} года заведен!'\n",
    "    \n",
    "    def engineOff(self): \n",
    "        return f'Автомобиль {self.color} {self.type_car} {self.year} года заглушен!'\n",
    "    \n",
    "    def setYear(self, year):\n",
    "        if self.year is None:\n",
    "            self.year = year\n",
    "            return 'Год присвоен'\n",
    "        else:\n",
    "            self.year = year\n",
    "            return 'Год изменен'\n",
    "    \n",
    "    def setTypeCar(self, type_car): \n",
    "        if self.type_car is None:\n",
    "            self.type_car = type_car\n",
    "            return 'Тип присвоен'\n",
    "        else:\n",
    "            self.type_car = type_car\n",
    "            return 'Тип изменен'\n",
    "    \n",
    "    def setColor(self, color):\n",
    "        if self.color is None:\n",
    "            self.color = color\n",
    "            return 'Цвет присвоен'\n",
    "        else:\n",
    "            self.color = color\n",
    "            return 'Цвет изменен'\n",
    "\n",
    "\n",
    "car_1 = Car()\n",
    "print(car_1.engineOn())\n",
    "print(f'{car_1.setYear(2008)}, {car_1.setTypeCar(\"седан\").lower()}, {car_1.setColor(\"голубой\").lower()}.')\n",
    "print(car_1.engineOff())\n",
    "print('\\n')\n",
    "car_2 = Car('черный', 'хэтчбек', 2012)\n",
    "print(car_2.engineOn())\n",
    "print(f'{car_2.setTypeCar(\"универсал\")}.')\n",
    "print(car_2.engineOff())"
   ]
  },
  {
   "cell_type": "markdown",
   "id": "f748a6ac",
   "metadata": {},
   "source": [
    "## Задание 3\n",
    "Допишите функцию Nutrionm"
   ]
  },
  {
   "cell_type": "code",
   "execution_count": 64,
   "id": "e0911bb6",
   "metadata": {},
   "outputs": [
    {
     "name": "stdout",
     "output_type": "stream",
     "text": [
      "Сложение разных ингредиентов: 313 calories\n",
      "Умножение разных ингредиентов: 630 calories\n",
      "Apple * 3: 315 calories\n"
     ]
    }
   ],
   "source": [
    "class NutritionInfo:\n",
    "    def __init__(self, proteins, carbs, fats):\n",
    "        self.proteins = proteins\n",
    "        self.carbs = carbs\n",
    "        self.fats = fats\n",
    "    \n",
    "    def __add__(self, other):\n",
    "        return NutritionInfo(self.proteins + other.proteins, self.carbs + other.carbs, self.fats + other.fats)\n",
    "    \n",
    "    def __mul__(self, other):\n",
    "        if type(other) is int or type(other) is float:\n",
    "            return NutritionInfo(self.proteins * other, self.carbs * other, self.fats * other)\n",
    "        else:\n",
    "            return NutritionInfo(self.proteins * other.proteins, self.carbs * other.carbs, self.fats * other.fats)\n",
    "    \n",
    "    def __str__(self):\n",
    "        return f\"Nutrition p {self.proteins}, c {self.carbs}, f {self.fats}\"\n",
    "        \n",
    "    def energy(self):\n",
    "        return int(self.fats * 9 + (self.carbs + self.proteins) * 4.2)\n",
    "    \n",
    "    \n",
    "apple = NutritionInfo(0, 25, 0)\n",
    "pastila = NutritionInfo(1, 2, 3)\n",
    "tvorog_9 = NutritionInfo(18, 3, 9)\n",
    "breakfast_summ = apple + tvorog_9 + pastila\n",
    "breakfast_mult = apple * tvorog_9 * pastila\n",
    "breakfast_three_apple = apple * 3\n",
    "print('Сложение разных ингредиентов:', breakfast_summ.energy(), 'calories')\n",
    "print('Умножение разных ингредиентов:', breakfast_mult.energy(), 'calories')\n",
    "print('Apple * 3:', breakfast_three_apple.energy(), 'calories')"
   ]
  }
 ],
 "metadata": {
  "kernelspec": {
   "display_name": "Python 3 (ipykernel)",
   "language": "python",
   "name": "python3"
  },
  "language_info": {
   "codemirror_mode": {
    "name": "ipython",
    "version": 3
   },
   "file_extension": ".py",
   "mimetype": "text/x-python",
   "name": "python",
   "nbconvert_exporter": "python",
   "pygments_lexer": "ipython3",
   "version": "3.9.7"
  }
 },
 "nbformat": 4,
 "nbformat_minor": 5
}
