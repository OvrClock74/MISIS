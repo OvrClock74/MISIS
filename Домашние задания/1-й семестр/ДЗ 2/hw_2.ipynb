{
 "cells": [
  {
   "cell_type": "markdown",
   "id": "fbe9a04b",
   "metadata": {},
   "source": [
    "# Домашнее задание №2\n",
    "## Задание 1\n",
    "Определить какой сейчас месяц.\n",
    "\n",
    "*Будем определять при помощи модуля datetime и одноименной функции*"
   ]
  },
  {
   "cell_type": "code",
   "execution_count": 8,
   "id": "07d80645",
   "metadata": {},
   "outputs": [
    {
     "name": "stdout",
     "output_type": "stream",
     "text": [
      "Месяц November\n",
      "Или номер месяца: \"11\"\n"
     ]
    }
   ],
   "source": [
    "from datetime import datetime\n",
    "\n",
    "print(f'Месяц {datetime.now().strftime(\"%B\")}\\nИли номер месяца: \"{datetime.now().month}\"')"
   ]
  },
  {
   "cell_type": "markdown",
   "id": "0877486b",
   "metadata": {},
   "source": [
    "## Задание 2\n",
    "Найти наибольший общий делитель.\n",
    "\n",
    "**Реализация 1** *(с помощью библиотеки math и функции gcd)*"
   ]
  },
  {
   "cell_type": "code",
   "execution_count": 22,
   "id": "717048f0",
   "metadata": {},
   "outputs": [
    {
     "name": "stdout",
     "output_type": "stream",
     "text": [
      "54 24\n",
      "НОД для 54 и 24: 6\n"
     ]
    }
   ],
   "source": [
    "from math import gcd\n",
    "\n",
    "a, b = input().split(' ')\n",
    "print(f'НОД для {a} и {b}: {gcd(int(a), int(b))}')"
   ]
  },
  {
   "cell_type": "markdown",
   "id": "968a3668",
   "metadata": {},
   "source": [
    "**Реализация 2**"
   ]
  },
  {
   "cell_type": "code",
   "execution_count": 24,
   "id": "3b728fed",
   "metadata": {},
   "outputs": [
    {
     "name": "stdout",
     "output_type": "stream",
     "text": [
      "НОД = 6\n"
     ]
    }
   ],
   "source": [
    "def nod(a, b):\n",
    "    if a == 0 or b == 0:\n",
    "        return 'НОДа не существует по определению из Википедии'\n",
    "    while b != 0:\n",
    "        (a, b) = (b, a%b)\n",
    "    return a\n",
    "\n",
    "print(f'НОД = {nod(24, 54)}')"
   ]
  },
  {
   "cell_type": "markdown",
   "id": "4075ab57",
   "metadata": {},
   "source": [
    "## Задание 3\n",
    "Расширение файла входит в список доступных расширений?"
   ]
  },
  {
   "cell_type": "code",
   "execution_count": 35,
   "id": "025c84b0",
   "metadata": {},
   "outputs": [
    {
     "name": "stdout",
     "output_type": "stream",
     "text": [
      "True\n"
     ]
    }
   ],
   "source": [
    "def file_ext(file, lst_ext):\n",
    "    return True if file[file.find('.'):] in lst_ext else False\n",
    "        \n",
    "    \n",
    "lst_ext = ['.png', '.jpg', '.py', '.pdf']\n",
    "file = 'Hello.jpg'\n",
    "print(file_ext(file, lst_ext))"
   ]
  },
  {
   "cell_type": "markdown",
   "id": "51f5234d",
   "metadata": {},
   "source": [
    "## Задание 4\n",
    "Високосный год?"
   ]
  },
  {
   "cell_type": "code",
   "execution_count": 1,
   "id": "97465ce2",
   "metadata": {},
   "outputs": [
    {
     "name": "stdout",
     "output_type": "stream",
     "text": [
      "Введите год: 2021\n",
      "2021г - не високосный\n"
     ]
    }
   ],
   "source": [
    "def leap_year(year):\n",
    "    if year % 400 == 0:\n",
    "        return f'{year}г - високосный'\n",
    "    elif year % 100 == 0:\n",
    "        return f'{year}г - не високосный'\n",
    "    elif year % 4 == 0:\n",
    "        return f'{year}г - високосный'\n",
    "    else:\n",
    "        return f'{year}г - не високосный'\n",
    "\n",
    "        \n",
    "print(leap_year(int(input(f'Введите год: '))))"
   ]
  }
 ],
 "metadata": {
  "kernelspec": {
   "display_name": "Python 3 (ipykernel)",
   "language": "python",
   "name": "python3"
  },
  "language_info": {
   "codemirror_mode": {
    "name": "ipython",
    "version": 3
   },
   "file_extension": ".py",
   "mimetype": "text/x-python",
   "name": "python",
   "nbconvert_exporter": "python",
   "pygments_lexer": "ipython3",
   "version": "3.9.7"
  }
 },
 "nbformat": 4,
 "nbformat_minor": 5
}
