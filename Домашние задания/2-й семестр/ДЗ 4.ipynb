{
 "cells": [
  {
   "cell_type": "markdown",
   "id": "cafe1d4c",
   "metadata": {},
   "source": [
    "# Д/з #4\n",
    "\n",
    "Используя XGBOOST предсказать размер чаевых в датасете TIPS"
   ]
  },
  {
   "cell_type": "code",
   "execution_count": 6,
   "id": "9db29a83",
   "metadata": {},
   "outputs": [
    {
     "name": "stdout",
     "output_type": "stream",
     "text": [
      "Предсказанных правильно ТЕСТОВЫХ значений tip: 7 (из 49) [точность = 14.29 %]\n",
      "Предсказанных правильно ВСЕХ значений tip: 159 (из 244)  [точность = 65.16 %]\n"
     ]
    }
   ],
   "source": [
    "import pandas as pd\n",
    "import sklearn\n",
    "import xgboost as xgb\n",
    "\n",
    "def xgb_tips(x_param, y_param):\n",
    "    x = df_fact[x_param] \n",
    "    y = df_fact[y_param]\n",
    "    x_train, x_test, y_train, y_test = sklearn.model_selection.train_test_split(\n",
    "        x, y, test_size = 0.2)\n",
    "    XGB = xgb.XGBClassifier(eval_metric = 'rmsle') # rmsle - среднеквадратическая логарифмическая ошибка\n",
    "    XGB.fit(x_train, y_train) # обучили\n",
    "    y_pred = XGB.predict(x_test) # предсказали\n",
    "\n",
    "    df1 = pd.DataFrame({\"Тестовые значения tip\": y_test, \"Предсказанные значения tip\": y_pred})\n",
    "    df1['Триггер'] = df1[\"Тестовые значения tip\"] == df1[\"Предсказанные значения tip\"]\n",
    "    acuracy_t = df1[\"Триггер\"].sum() / df1[\"Тестовые значения tip\"].count() * 100\n",
    "    print(f'Предсказанных правильно ТЕСТОВЫХ значений tip: {df1[\"Триггер\"].sum()} \\\n",
    "(из {df1[\"Тестовые значения tip\"].count()}) [точность = {round(acuracy_t, 2)} %]')\n",
    "\n",
    "    df['Предсказанные tip'] = XGB.predict(x) # еще раз предсказали, но уже по всем значениям\n",
    "    df['Совпадение'] = df['tip'] == df['Предсказанные tip']\n",
    "    acuracy_m = df[\"Совпадение\"].sum() / df[\"tip\"].count() * 100\n",
    "    print(f'Предсказанных правильно ВСЕХ значений tip: {df[\"Совпадение\"].sum()} (из {df[\"tip\"].count()})  \\\n",
    "[точность = {round(acuracy_m, 2)} %]')\n",
    "\n",
    "    \n",
    "FILEPATH = (\"https://raw.githubusercontent.com/HerrEnot/MISIS/master/notebooks/season_2/tips.csv\")\n",
    "df = pd.read_csv(FILEPATH, parse_dates=True, dayfirst=True)\n",
    "df_fact = df.apply(lambda x: pd.factorize(x)[0] \n",
    "                   if (x.name in ['sex', 'smoker', 'day', 'time']) else x) # закодировали всё\n",
    "x_param, y_param = ['total_bill', 'sex', 'smoker', 'day', 'time', 'size'], 'tip'\n",
    "xgb_tips(x_param, y_param)"
   ]
  },
  {
   "cell_type": "code",
   "execution_count": 64,
   "id": "9d0cbc03",
   "metadata": {},
   "outputs": [
    {
     "data": {
      "text/html": [
       "<div>\n",
       "<style scoped>\n",
       "    .dataframe tbody tr th:only-of-type {\n",
       "        vertical-align: middle;\n",
       "    }\n",
       "\n",
       "    .dataframe tbody tr th {\n",
       "        vertical-align: top;\n",
       "    }\n",
       "\n",
       "    .dataframe thead th {\n",
       "        text-align: right;\n",
       "    }\n",
       "</style>\n",
       "<table border=\"1\" class=\"dataframe\">\n",
       "  <thead>\n",
       "    <tr style=\"text-align: right;\">\n",
       "      <th></th>\n",
       "      <th>total_bill</th>\n",
       "      <th>tip</th>\n",
       "      <th>sex</th>\n",
       "      <th>smoker</th>\n",
       "      <th>day</th>\n",
       "      <th>time</th>\n",
       "      <th>size</th>\n",
       "      <th>Предсказанные tip</th>\n",
       "      <th>Совпадение</th>\n",
       "    </tr>\n",
       "  </thead>\n",
       "  <tbody>\n",
       "    <tr>\n",
       "      <th>0</th>\n",
       "      <td>16.99</td>\n",
       "      <td>1.01</td>\n",
       "      <td>Female</td>\n",
       "      <td>No</td>\n",
       "      <td>Sun</td>\n",
       "      <td>Dinner</td>\n",
       "      <td>2</td>\n",
       "      <td>3.50</td>\n",
       "      <td>False</td>\n",
       "    </tr>\n",
       "    <tr>\n",
       "      <th>1</th>\n",
       "      <td>10.34</td>\n",
       "      <td>1.66</td>\n",
       "      <td>Male</td>\n",
       "      <td>No</td>\n",
       "      <td>Sun</td>\n",
       "      <td>Dinner</td>\n",
       "      <td>3</td>\n",
       "      <td>2.00</td>\n",
       "      <td>False</td>\n",
       "    </tr>\n",
       "    <tr>\n",
       "      <th>2</th>\n",
       "      <td>21.01</td>\n",
       "      <td>3.50</td>\n",
       "      <td>Male</td>\n",
       "      <td>No</td>\n",
       "      <td>Sun</td>\n",
       "      <td>Dinner</td>\n",
       "      <td>3</td>\n",
       "      <td>3.50</td>\n",
       "      <td>True</td>\n",
       "    </tr>\n",
       "    <tr>\n",
       "      <th>3</th>\n",
       "      <td>23.68</td>\n",
       "      <td>3.31</td>\n",
       "      <td>Male</td>\n",
       "      <td>No</td>\n",
       "      <td>Sun</td>\n",
       "      <td>Dinner</td>\n",
       "      <td>2</td>\n",
       "      <td>2.55</td>\n",
       "      <td>False</td>\n",
       "    </tr>\n",
       "    <tr>\n",
       "      <th>4</th>\n",
       "      <td>24.59</td>\n",
       "      <td>3.61</td>\n",
       "      <td>Female</td>\n",
       "      <td>No</td>\n",
       "      <td>Sun</td>\n",
       "      <td>Dinner</td>\n",
       "      <td>4</td>\n",
       "      <td>3.61</td>\n",
       "      <td>True</td>\n",
       "    </tr>\n",
       "    <tr>\n",
       "      <th>...</th>\n",
       "      <td>...</td>\n",
       "      <td>...</td>\n",
       "      <td>...</td>\n",
       "      <td>...</td>\n",
       "      <td>...</td>\n",
       "      <td>...</td>\n",
       "      <td>...</td>\n",
       "      <td>...</td>\n",
       "      <td>...</td>\n",
       "    </tr>\n",
       "    <tr>\n",
       "      <th>239</th>\n",
       "      <td>29.03</td>\n",
       "      <td>5.92</td>\n",
       "      <td>Male</td>\n",
       "      <td>No</td>\n",
       "      <td>Sat</td>\n",
       "      <td>Dinner</td>\n",
       "      <td>3</td>\n",
       "      <td>2.05</td>\n",
       "      <td>False</td>\n",
       "    </tr>\n",
       "    <tr>\n",
       "      <th>240</th>\n",
       "      <td>27.18</td>\n",
       "      <td>2.00</td>\n",
       "      <td>Female</td>\n",
       "      <td>Yes</td>\n",
       "      <td>Sat</td>\n",
       "      <td>Dinner</td>\n",
       "      <td>2</td>\n",
       "      <td>2.00</td>\n",
       "      <td>True</td>\n",
       "    </tr>\n",
       "    <tr>\n",
       "      <th>241</th>\n",
       "      <td>22.67</td>\n",
       "      <td>2.00</td>\n",
       "      <td>Male</td>\n",
       "      <td>Yes</td>\n",
       "      <td>Sat</td>\n",
       "      <td>Dinner</td>\n",
       "      <td>2</td>\n",
       "      <td>2.00</td>\n",
       "      <td>True</td>\n",
       "    </tr>\n",
       "    <tr>\n",
       "      <th>242</th>\n",
       "      <td>17.82</td>\n",
       "      <td>1.75</td>\n",
       "      <td>Male</td>\n",
       "      <td>No</td>\n",
       "      <td>Sat</td>\n",
       "      <td>Dinner</td>\n",
       "      <td>2</td>\n",
       "      <td>1.75</td>\n",
       "      <td>True</td>\n",
       "    </tr>\n",
       "    <tr>\n",
       "      <th>243</th>\n",
       "      <td>18.78</td>\n",
       "      <td>3.00</td>\n",
       "      <td>Female</td>\n",
       "      <td>No</td>\n",
       "      <td>Thur</td>\n",
       "      <td>Dinner</td>\n",
       "      <td>2</td>\n",
       "      <td>3.00</td>\n",
       "      <td>True</td>\n",
       "    </tr>\n",
       "  </tbody>\n",
       "</table>\n",
       "<p>244 rows × 9 columns</p>\n",
       "</div>"
      ],
      "text/plain": [
       "     total_bill   tip     sex smoker   day    time  size  Предсказанные tip  \\\n",
       "0         16.99  1.01  Female     No   Sun  Dinner     2               3.50   \n",
       "1         10.34  1.66    Male     No   Sun  Dinner     3               2.00   \n",
       "2         21.01  3.50    Male     No   Sun  Dinner     3               3.50   \n",
       "3         23.68  3.31    Male     No   Sun  Dinner     2               2.55   \n",
       "4         24.59  3.61  Female     No   Sun  Dinner     4               3.61   \n",
       "..          ...   ...     ...    ...   ...     ...   ...                ...   \n",
       "239       29.03  5.92    Male     No   Sat  Dinner     3               2.05   \n",
       "240       27.18  2.00  Female    Yes   Sat  Dinner     2               2.00   \n",
       "241       22.67  2.00    Male    Yes   Sat  Dinner     2               2.00   \n",
       "242       17.82  1.75    Male     No   Sat  Dinner     2               1.75   \n",
       "243       18.78  3.00  Female     No  Thur  Dinner     2               3.00   \n",
       "\n",
       "     Совпадение  \n",
       "0         False  \n",
       "1         False  \n",
       "2          True  \n",
       "3         False  \n",
       "4          True  \n",
       "..          ...  \n",
       "239       False  \n",
       "240        True  \n",
       "241        True  \n",
       "242        True  \n",
       "243        True  \n",
       "\n",
       "[244 rows x 9 columns]"
      ]
     },
     "execution_count": 64,
     "metadata": {},
     "output_type": "execute_result"
    }
   ],
   "source": [
    "df"
   ]
  },
  {
   "cell_type": "markdown",
   "id": "c77cde5e",
   "metadata": {},
   "source": [
    "---------"
   ]
  },
  {
   "cell_type": "markdown",
   "id": "985c5c41",
   "metadata": {},
   "source": [
    "Хотя точных совпадений всего лишь около *60%*, предсказанные значения варьируются вокруг истины, отклоняясь не особо сильно.\n",
    "Но всё равно попробуем увеличить точность путем комбинации факторов (фич)."
   ]
  },
  {
   "cell_type": "code",
   "execution_count": 25,
   "id": "885e9334",
   "metadata": {},
   "outputs": [
    {
     "name": "stdout",
     "output_type": "stream",
     "text": [
      "Предсказанных правильно ТЕСТОВЫХ значений tip: 9 (из 49) [точность = 18.37 %]\n",
      "Предсказанных правильно ВСЕХ значений tip: 152 (из 244)  [точность = 62.3 %]\n"
     ]
    }
   ],
   "source": [
    "x_param = ['total_bill', 'sex', 'smoker', 'day', 'time']\n",
    "xgb_tips(x_param, y_param)"
   ]
  },
  {
   "cell_type": "code",
   "execution_count": 31,
   "id": "024bf64f",
   "metadata": {},
   "outputs": [
    {
     "name": "stdout",
     "output_type": "stream",
     "text": [
      "Предсказанных правильно ТЕСТОВЫХ значений tip: 3 (из 49) [точность = 6.12 %]\n",
      "Предсказанных правильно ВСЕХ значений tip: 135 (из 244)  [точность = 55.33 %]\n"
     ]
    }
   ],
   "source": [
    "x_param = ['total_bill']\n",
    "xgb_tips(x_param, y_param)"
   ]
  },
  {
   "cell_type": "code",
   "execution_count": 37,
   "id": "badd5242",
   "metadata": {},
   "outputs": [
    {
     "name": "stdout",
     "output_type": "stream",
     "text": [
      "Предсказанных правильно ТЕСТОВЫХ значений tip: 8 (из 49) [точность = 16.33 %]\n",
      "Предсказанных правильно ВСЕХ значений tip: 149 (из 244)  [точность = 61.07 %]\n"
     ]
    }
   ],
   "source": [
    "x_param = ['total_bill', 'sex', 'day']\n",
    "xgb_tips(x_param, y_param)"
   ]
  },
  {
   "cell_type": "code",
   "execution_count": 39,
   "id": "6a94200e",
   "metadata": {},
   "outputs": [
    {
     "name": "stdout",
     "output_type": "stream",
     "text": [
      "Предсказанных правильно ТЕСТОВЫХ значений tip: 4 (из 49) [точность = 8.16 %]\n",
      "Предсказанных правильно ВСЕХ значений tip: 33 (из 244)  [точность = 13.52 %]\n"
     ]
    }
   ],
   "source": [
    "x_param = ['sex']\n",
    "xgb_tips(x_param, y_param)"
   ]
  },
  {
   "cell_type": "code",
   "execution_count": 42,
   "id": "c888e433",
   "metadata": {},
   "outputs": [
    {
     "name": "stdout",
     "output_type": "stream",
     "text": [
      "Предсказанных правильно ТЕСТОВЫХ значений tip: 6 (из 49) [точность = 12.24 %]\n",
      "Предсказанных правильно ВСЕХ значений tip: 39 (из 244)  [точность = 15.98 %]\n"
     ]
    }
   ],
   "source": [
    "x_param = ['time', 'smoker', 'day']\n",
    "xgb_tips(x_param, y_param)"
   ]
  },
  {
   "cell_type": "code",
   "execution_count": 51,
   "id": "7422aded",
   "metadata": {},
   "outputs": [
    {
     "name": "stdout",
     "output_type": "stream",
     "text": [
      "Предсказанных правильно ТЕСТОВЫХ значений tip: 9 (из 49) [точность = 18.37 %]\n",
      "Предсказанных правильно ВСЕХ значений tip: 46 (из 244)  [точность = 18.85 %]\n"
     ]
    }
   ],
   "source": [
    "x_param = ['day', 'size']\n",
    "xgb_tips(x_param, y_param)"
   ]
  },
  {
   "cell_type": "markdown",
   "id": "644ab764",
   "metadata": {},
   "source": [
    "-------"
   ]
  },
  {
   "cell_type": "markdown",
   "id": "8e991316",
   "metadata": {},
   "source": [
    "### Вывод\n",
    "Как можем заметить, при выборе всех фич для обучения и предсказания, можем получить наиболее точные результаты. \n",
    "НО самым значимым параметром является общий счет за посещение (**total_bill**), так как даже с ним одним *XGBoost* может практически с такой же высокой вероятностью предсказать чаевые."
   ]
  }
 ],
 "metadata": {
  "kernelspec": {
   "display_name": "Python 3 (ipykernel)",
   "language": "python",
   "name": "python3"
  },
  "language_info": {
   "codemirror_mode": {
    "name": "ipython",
    "version": 3
   },
   "file_extension": ".py",
   "mimetype": "text/x-python",
   "name": "python",
   "nbconvert_exporter": "python",
   "pygments_lexer": "ipython3",
   "version": "3.9.7"
  }
 },
 "nbformat": 4,
 "nbformat_minor": 5
}
