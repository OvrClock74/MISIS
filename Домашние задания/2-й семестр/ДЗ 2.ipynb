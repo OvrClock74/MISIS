{
 "cells": [
  {
   "cell_type": "markdown",
   "id": "0201b6a3",
   "metadata": {},
   "source": [
    "# Д/з #2\n",
    "\n",
    "### Задача 1\n",
    "\n",
    "Креативная часть: найти парамеры и комбинации их, которые будут увеличивать accuracy\n",
    "\n",
    "Техническая часть: сделать под это всё удобные обёртки. Например, это функция, которая просто принимает список фичей, а на выходе показывает результат фита"
   ]
  },
  {
   "cell_type": "code",
   "execution_count": 128,
   "id": "fffc0d82",
   "metadata": {},
   "outputs": [
    {
     "name": "stdout",
     "output_type": "stream",
     "text": [
      "Precision: 0.8585858585858586\n",
      "Recall: 0.901060070671378\n",
      "Accuracy: 0.8588709677419355\n",
      "F1: 0.43965517241379304\n"
     ]
    }
   ],
   "source": [
    "import pandas as pd\n",
    "import glob\n",
    "import os\n",
    "import tqdm\n",
    "import gc\n",
    "import matplotlib.pyplot as plt\n",
    "from ipywidgets import interact, interactive, fixed, interact_manual\n",
    "import ipywidgets as widgets\n",
    "import seaborn as sns\n",
    "import numpy as np\n",
    "from scipy.spatial import Voronoi, voronoi_plot_2d\n",
    "import math\n",
    "from sklearn import datasets, linear_model, model_selection\n",
    "from sklearn.metrics import mean_squared_error, r2_score, confusion_matrix\n",
    "from tqdm import tqdm\n",
    "\n",
    "%matplotlib inline\n",
    "\n",
    "\n",
    "def find_params(df, features, desired_value):\n",
    "    '''\n",
    "    input: 1) DataFrame, 2) Table columns, 3) Search column\n",
    "    return: 1) Precision, 2) Recall, 3) Accuracy, 4) F1\n",
    "    '''\n",
    "    all_feat = features.copy()\n",
    "    all_feat.append(desired_value)\n",
    "    r_dfs = df[all_feat]\n",
    "    r_dfs = r_dfs.sample(frac=1)\n",
    "    df_input = r_dfs[features]\n",
    "    df_output = r_dfs[desired_value].apply(lambda x: int(x == r_dfs[desired_value].iloc[0]))\n",
    "    X_train, X_test, Y_train, Y_test = model_selection.train_test_split(df_input, df_output, test_size=0.2)\n",
    "    model = linear_model.LogisticRegression()\n",
    "    model.fit(X_train, Y_train)\n",
    "    model.coef_\n",
    "    Y_test_predicted = model.predict(X_test)\n",
    "    Y_test_predicted\n",
    "    [tn, fp], [fn, tp] = confusion_matrix(Y_test, Y_test_predicted)\n",
    "    confusion_matrix(Y_test, Y_test_predicted)\n",
    "    return [tp/(tp+fp), tp/(tp+fn), (tn+tp)/(tp+fp+tn+fn), ((tp/(tp+fp))*(tp/(tp+fn)))/((tp/(tp+fp))+(tp/(tp+fn)))]\n",
    "\n",
    "\n",
    "dfs = pd.read_csv('/Users/pavelzurkin/Desktop/athletes_sochi.txt').dropna()\n",
    "dfs[\"BMI\"] = dfs[\"weight\"] / (dfs[\"height\"] ** 2)\n",
    "params = find_params(dfs, ['age', 'height', 'weight', 'BMI'], 'gender')\n",
    "print(f'Precision: {params[0]}\\nRecall: {params[1]}\\nAccuracy: {params[2]}\\nF1: {params[3]}')"
   ]
  },
  {
   "cell_type": "markdown",
   "id": "611e8617",
   "metadata": {},
   "source": []
  },
  {
   "cell_type": "markdown",
   "id": "09ddb923",
   "metadata": {},
   "source": [
    "А теперь при помощи созданной функции поищем лучшие комбинации фичей для повышения \"Accuracy\""
   ]
  },
  {
   "cell_type": "code",
   "execution_count": 139,
   "id": "3a70490a",
   "metadata": {},
   "outputs": [
    {
     "name": "stdout",
     "output_type": "stream",
     "text": [
      "Accuracy: 0.8649193548387096\n"
     ]
    }
   ],
   "source": [
    "params = find_params(dfs, ['height', 'weight', 'BMI'], 'gender')\n",
    "print(f'Accuracy: {params[2]}')"
   ]
  },
  {
   "cell_type": "code",
   "execution_count": 149,
   "id": "4762f1af",
   "metadata": {},
   "outputs": [
    {
     "name": "stdout",
     "output_type": "stream",
     "text": [
      "Accuracy: 0.8870967741935484\n"
     ]
    }
   ],
   "source": [
    "params = find_params(dfs, ['age', 'height', 'weight', 'BMI'], 'gender')\n",
    "print(f'Accuracy: {params[2]}')"
   ]
  },
  {
   "cell_type": "code",
   "execution_count": 158,
   "id": "dd5a50d1",
   "metadata": {},
   "outputs": [
    {
     "name": "stdout",
     "output_type": "stream",
     "text": [
      "Accuracy: 0.8508064516129032\n"
     ]
    }
   ],
   "source": [
    "params = find_params(dfs, ['age', 'height', 'weight'], 'gender')\n",
    "print(f'Accuracy: {params[2]}')"
   ]
  },
  {
   "cell_type": "code",
   "execution_count": 168,
   "id": "8f199d81",
   "metadata": {},
   "outputs": [
    {
     "name": "stdout",
     "output_type": "stream",
     "text": [
      "Accuracy: 0.8125\n"
     ]
    }
   ],
   "source": [
    "params = find_params(dfs, ['height', 'weight'], 'gender')\n",
    "print(f'Accuracy: {params[2]}')"
   ]
  },
  {
   "cell_type": "code",
   "execution_count": 175,
   "id": "77111835",
   "metadata": {},
   "outputs": [
    {
     "name": "stdout",
     "output_type": "stream",
     "text": [
      "Accuracy: 0.8810483870967742\n"
     ]
    }
   ],
   "source": [
    "params = find_params(dfs, ['height', 'weight', 'BMI', 'gold_medals', 'silver_medals', 'bronze_medals', 'total_medals'], 'gender')\n",
    "print(f'Accuracy: {params[2]}')\n"
   ]
  }
 ],
 "metadata": {
  "kernelspec": {
   "display_name": "Python 3 (ipykernel)",
   "language": "python",
   "name": "python3"
  },
  "language_info": {
   "codemirror_mode": {
    "name": "ipython",
    "version": 3
   },
   "file_extension": ".py",
   "mimetype": "text/x-python",
   "name": "python",
   "nbconvert_exporter": "python",
   "pygments_lexer": "ipython3",
   "version": "3.9.7"
  }
 },
 "nbformat": 4,
 "nbformat_minor": 5
}
