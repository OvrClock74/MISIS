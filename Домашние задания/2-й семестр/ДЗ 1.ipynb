{
 "cells": [
  {
   "cell_type": "markdown",
   "id": "2b3a3041",
   "metadata": {},
   "source": [
    "# Д/з #1\n",
    "\n",
    "###  Задача 1 Связанные списки\n",
    "Напишите функцию (пусть онабудет называться reverse_linked_list), которая разворачивает связный список. На вход она принимает головную ноду, а на выход отдаёт хвостовую ноду исходного списка, но только теперь если попробовать пройтись по ней, она будет новой головной."
   ]
  },
  {
   "cell_type": "code",
   "execution_count": 133,
   "id": "839d117a",
   "metadata": {},
   "outputs": [
    {
     "name": "stdout",
     "output_type": "stream",
     "text": [
      "[Node with value 1]\n",
      "[Node with value 2]\n",
      "[Node with value 3]\n",
      "[Node with value Внезапно]\n",
      "[Node with value 5]\n",
      "---\n",
      "[Node with value 5]\n",
      "[Node with value Внезапно]\n",
      "[Node with value 3]\n",
      "[Node with value 2]\n",
      "[Node with value 1]\n"
     ]
    }
   ],
   "source": [
    "class Node(object):\n",
    "    def __init__(self, value=None, next_node=None):\n",
    "        self.value = value\n",
    "        self.next = next_node\n",
    "\n",
    "    def __str__(self):\n",
    "        return f\"[Node with value {self.value}]\"\n",
    "\n",
    "def print_linked_list(head):\n",
    "    cur = head\n",
    "    while cur is not None:\n",
    "        print(cur)\n",
    "        cur = cur.next\n",
    "\n",
    "def reverse_linked_list(h):\n",
    "    cur = h\n",
    "    lst_node = []\n",
    "    while cur is not None:\n",
    "        lst_node.append(cur.value)\n",
    "        cur = cur.next\n",
    "    lst_node.reverse()\n",
    "    cur = h\n",
    "    i = 0\n",
    "    while cur is not None:\n",
    "        cur.value = lst_node[i]\n",
    "        cur = cur.next\n",
    "        i += 1\n",
    "    return h\n",
    "\n",
    "\n",
    "h, a, b, c, d = Node(1), Node(2), Node(3), Node(\"Внезапно\"), Node(5)\n",
    "h.next = a\n",
    "a.next = b\n",
    "b.next = c\n",
    "c.next = d\n",
    "\n",
    "print_linked_list(h)\n",
    "h = reverse_linked_list(h)\n",
    "print(\"---\")\n",
    "print_linked_list(h)"
   ]
  },
  {
   "cell_type": "markdown",
   "id": "83226cec",
   "metadata": {},
   "source": [
    "### Задача 2 Pandas\n",
    "1) Выясните, сколько в среднем выходи полный счёт по пятницам на ланч у курящих мужчин (датасет tips)\n",
    "\n",
    "2) Загрузите iris и посмотрите разбросы по всем числовым значениям для всех трёх классов цветов (датасет iris)\n",
    "\n",
    "3) Создайте новый столбец с плотностью населения. Переименуйте названия первого и третьего столбца на русский язык"
   ]
  },
  {
   "cell_type": "code",
   "execution_count": 141,
   "id": "ee93298e",
   "metadata": {},
   "outputs": [
    {
     "name": "stdout",
     "output_type": "stream",
     "text": [
      "В среднем полный счёт по пятницам на ланч у курящих мужчин: 11.386666666666668\n"
     ]
    }
   ],
   "source": [
    "import pandas as pd\n",
    "\n",
    "url = (\"https://raw.githubusercontent.com/HerrEnot/MISIS/master/notebooks/season_2/tips.csv\")\n",
    "df = pd.read_csv(url, index_col='tip', parse_dates=True, dayfirst=True)\n",
    "\n",
    "le_masque = df[\"sex\"] == \"Male\"\n",
    "le_masque &= df[\"day\"] == \"Fri\"\n",
    "le_masque &= df[\"smoker\"] == \"Yes\"\n",
    "le_masque &= df[\"time\"] == \"Lunch\"\n",
    "\n",
    "print(f\"В среднем полный счёт по пятницам на ланч у курящих мужчин: {df[le_masque].sum()['total_bill']/df[le_masque].count()['total_bill']}\")\n"
   ]
  },
  {
   "cell_type": "code",
   "execution_count": 145,
   "id": "c4262501",
   "metadata": {},
   "outputs": [
    {
     "name": "stdout",
     "output_type": "stream",
     "text": [
      "    СРЕДНЕЕ ЗНАЧЕНИЕ ДЛЯ КАЖДОГО ЦВЕТКА\n",
      "\n",
      "\n"
     ]
    },
    {
     "data": {
      "text/html": [
       "<div>\n",
       "<style scoped>\n",
       "    .dataframe tbody tr th:only-of-type {\n",
       "        vertical-align: middle;\n",
       "    }\n",
       "\n",
       "    .dataframe tbody tr th {\n",
       "        vertical-align: top;\n",
       "    }\n",
       "\n",
       "    .dataframe thead th {\n",
       "        text-align: right;\n",
       "    }\n",
       "</style>\n",
       "<table border=\"1\" class=\"dataframe\">\n",
       "  <thead>\n",
       "    <tr style=\"text-align: right;\">\n",
       "      <th></th>\n",
       "      <th>SepalLength</th>\n",
       "      <th>SepalWidth</th>\n",
       "      <th>PetalLength</th>\n",
       "      <th>PetalWidth</th>\n",
       "    </tr>\n",
       "    <tr>\n",
       "      <th>Name</th>\n",
       "      <th></th>\n",
       "      <th></th>\n",
       "      <th></th>\n",
       "      <th></th>\n",
       "    </tr>\n",
       "  </thead>\n",
       "  <tbody>\n",
       "    <tr>\n",
       "      <th>Iris-setosa</th>\n",
       "      <td>5.006</td>\n",
       "      <td>3.418</td>\n",
       "      <td>1.464</td>\n",
       "      <td>0.244</td>\n",
       "    </tr>\n",
       "    <tr>\n",
       "      <th>Iris-versicolor</th>\n",
       "      <td>5.936</td>\n",
       "      <td>2.770</td>\n",
       "      <td>4.260</td>\n",
       "      <td>1.326</td>\n",
       "    </tr>\n",
       "    <tr>\n",
       "      <th>Iris-virginica</th>\n",
       "      <td>6.588</td>\n",
       "      <td>2.974</td>\n",
       "      <td>5.552</td>\n",
       "      <td>2.026</td>\n",
       "    </tr>\n",
       "  </tbody>\n",
       "</table>\n",
       "</div>"
      ],
      "text/plain": [
       "                 SepalLength  SepalWidth  PetalLength  PetalWidth\n",
       "Name                                                             \n",
       "Iris-setosa            5.006       3.418        1.464       0.244\n",
       "Iris-versicolor        5.936       2.770        4.260       1.326\n",
       "Iris-virginica         6.588       2.974        5.552       2.026"
      ]
     },
     "execution_count": 145,
     "metadata": {},
     "output_type": "execute_result"
    }
   ],
   "source": [
    "import pandas as pd\n",
    "\n",
    "url = (\"https://raw.githubusercontent.com/HerrEnot/MISIS/master/notebooks/season_2/iris.csv\")\n",
    "df = pd.read_csv(url, index_col='Name', parse_dates=True, dayfirst=True)\n",
    "setosa = df.index == \"Iris-setosa\"\n",
    "versicolor = df.index == \"Iris-versicolor\"\n",
    "virginica = df.index == \"Iris-virginica\"\n",
    "\n",
    "print(f'    СРЕДНЕЕ ЗНАЧЕНИЕ ДЛЯ КАЖДОГО ЦВЕТКА\\n\\n')\n",
    "df.groupby([df.index]).mean()"
   ]
  },
  {
   "cell_type": "code",
   "execution_count": 146,
   "id": "54f96093",
   "metadata": {
    "scrolled": true
   },
   "outputs": [
    {
     "data": {
      "text/html": [
       "<div>\n",
       "<style scoped>\n",
       "    .dataframe tbody tr th:only-of-type {\n",
       "        vertical-align: middle;\n",
       "    }\n",
       "\n",
       "    .dataframe tbody tr th {\n",
       "        vertical-align: top;\n",
       "    }\n",
       "\n",
       "    .dataframe thead th {\n",
       "        text-align: right;\n",
       "    }\n",
       "</style>\n",
       "<table border=\"1\" class=\"dataframe\">\n",
       "  <thead>\n",
       "    <tr style=\"text-align: right;\">\n",
       "      <th></th>\n",
       "      <th>Население (млн)</th>\n",
       "      <th>Площадь (км²)</th>\n",
       "      <th>Плотность (чел/км²)</th>\n",
       "    </tr>\n",
       "    <tr>\n",
       "      <th>country</th>\n",
       "      <th></th>\n",
       "      <th></th>\n",
       "      <th></th>\n",
       "    </tr>\n",
       "  </thead>\n",
       "  <tbody>\n",
       "    <tr>\n",
       "      <th>Kazakhstan</th>\n",
       "      <td>17.04</td>\n",
       "      <td>2724902</td>\n",
       "      <td>6.253436</td>\n",
       "    </tr>\n",
       "    <tr>\n",
       "      <th>Russia</th>\n",
       "      <td>143.50</td>\n",
       "      <td>17125191</td>\n",
       "      <td>8.379469</td>\n",
       "    </tr>\n",
       "    <tr>\n",
       "      <th>Belarus</th>\n",
       "      <td>9.50</td>\n",
       "      <td>207600</td>\n",
       "      <td>45.761079</td>\n",
       "    </tr>\n",
       "    <tr>\n",
       "      <th>Ukraine</th>\n",
       "      <td>45.50</td>\n",
       "      <td>603628</td>\n",
       "      <td>75.377550</td>\n",
       "    </tr>\n",
       "  </tbody>\n",
       "</table>\n",
       "</div>"
      ],
      "text/plain": [
       "            Население (млн)  Площадь (км²)  Плотность (чел/км²)\n",
       "country                                                        \n",
       "Kazakhstan            17.04        2724902             6.253436\n",
       "Russia               143.50       17125191             8.379469\n",
       "Belarus                9.50         207600            45.761079\n",
       "Ukraine               45.50         603628            75.377550"
      ]
     },
     "execution_count": 146,
     "metadata": {},
     "output_type": "execute_result"
    }
   ],
   "source": [
    "import pandas as pd\n",
    "\n",
    "df = pd.DataFrame({\n",
    "     'country': ['Kazakhstan', 'Russia', 'Belarus', 'Ukraine'],\n",
    "     'population': [17.04, 143.5, 9.5, 45.5],\n",
    "     'square': [2724902, 17125191, 207600, 603628]\n",
    " })\n",
    "df.set_index('country',inplace=True)\n",
    "df['Плотность (чел/км²)'] = df['population'] * 10**6 / df['square']\n",
    "df = df.rename({'population': 'Население (млн)', 'square': 'Площадь (км²)'}, axis=1)\n",
    "df"
   ]
  },
  {
   "cell_type": "code",
   "execution_count": null,
   "id": "b2673e3c",
   "metadata": {},
   "outputs": [],
   "source": []
  }
 ],
 "metadata": {
  "kernelspec": {
   "display_name": "Python 3 (ipykernel)",
   "language": "python",
   "name": "python3"
  },
  "language_info": {
   "codemirror_mode": {
    "name": "ipython",
    "version": 3
   },
   "file_extension": ".py",
   "mimetype": "text/x-python",
   "name": "python",
   "nbconvert_exporter": "python",
   "pygments_lexer": "ipython3",
   "version": "3.9.7"
  }
 },
 "nbformat": 4,
 "nbformat_minor": 5
}
